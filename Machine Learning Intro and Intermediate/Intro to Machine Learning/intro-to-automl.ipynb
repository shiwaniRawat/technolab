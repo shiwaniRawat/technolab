{
 "cells": [
  {
   "cell_type": "markdown",
   "metadata": {
    "papermill": {
     "duration": 0.010542,
     "end_time": "2020-10-01T00:10:14.759413",
     "exception": false,
     "start_time": "2020-10-01T00:10:14.748871",
     "status": "completed"
    },
    "tags": []
   },
   "source": [
    "# Introduction\n",
    "\n",
    "When applying machine learning to real-world data, there are a lot of steps involved in the process -- starting with collecting the data and ending with generating predictions.  (*We work with the seven steps of machine learning, as defined by Yufeng Guo **[here](https://towardsdatascience.com/the-7-steps-of-machine-learning-2877d7e5548e)**.*)\n",
    "\n",
    "![](https://i.imgur.com/mqTCqBR.png)\n",
    "\n",
    "It all begins with **Step 1: Gather the data**.  In industry, there are important considerations you need to take into account when building a dataset, such as **[target leakage](https://www.kaggle.com/alexisbcook/data-leakage)**. When participating in a Kaggle competition, this step is already completed for you.\n",
    "\n",
    "In the **[Intro to Machine Learning](https://www.kaggle.com/learn/intro-to-machine-learning)** and the **[Intermediate Machine Learning](https://www.kaggle.com/learn/intermediate-machine-learning)** courses, you can learn how to:\n",
    "- **Step 2: Prepare the data** - Deal with [missing values](https://www.kaggle.com/alexisbcook/missing-values) and [categorical data](https://www.kaggle.com/alexisbcook/categorical-variables).  ([Feature engineering](https://www.kaggle.com/learn/feature-engineering) is covered in a separate course.)\n",
    "- **Step 4: Train the model** - Fit [decision trees](https://www.kaggle.com/dansbecker/your-first-machine-learning-model) and [random forests](https://www.kaggle.com/dansbecker/random-forests) to patterns in training data.\n",
    "- **Step 5: Evaluate the model** - Use a [validation set](https://www.kaggle.com/dansbecker/model-validation) to assess how well a trained model performs on unseen data.\n",
    "- **Step 6: Tune parameters** - Tune parameters to get better performance from [XGBoost](https://www.kaggle.com/alexisbcook/xgboost) models.\n",
    "- **Step 7: Get predictions** - Generate predictions with a trained model and [submit your results to a Kaggle competition](https://www.kaggle.com/kernels/fork/1259198).\n",
    "\n",
    "That leaves **Step 3: Select a model**.  There are _a lot_ of different types of models.  Which one should you select for your problem?  When you're just getting started, the best option is just to try everything and build your own intuition - there aren't any universally accepted rules.  There are also many useful Kaggle notebooks (like **[this one](https://www.kaggle.com/vbmokin/data-science-for-tabular-data-advanced-techniques)**) where you can see how and when other Kagglers used different models.\n",
    "\n",
    "Mastering the machine learning process involves a lot of time and practice.  While you're still learning, you can turn to **automated machine learning (AutoML) tools** to generate intelligent predictions."
   ]
  },
  {
   "cell_type": "markdown",
   "metadata": {
    "papermill": {
     "duration": 0.008934,
     "end_time": "2020-10-01T00:10:14.778867",
     "exception": false,
     "start_time": "2020-10-01T00:10:14.769933",
     "status": "completed"
    },
    "tags": []
   },
   "source": [
    "# Automated machine learning (AutoML)\n",
    "\n",
    "In this notebook, you'll learn how to use [**Google Cloud AutoML Tables**](https://cloud.google.com/automl-tables/docs/beginners-guide) to automate the machine learning process.  While Kaggle has already taken care of the data collection, AutoML Tables will take care of all remaining steps.\n",
    "\n",
    "![](https://i.imgur.com/5SekA3O.png)"
   ]
  },
  {
   "cell_type": "markdown",
   "metadata": {
    "papermill": {
     "duration": 0.008809,
     "end_time": "2020-10-01T00:10:14.796957",
     "exception": false,
     "start_time": "2020-10-01T00:10:14.788148",
     "status": "completed"
    },
    "tags": []
   },
   "source": [
    "AutoML Tables is a **paid service**.  In the exercise that follows this tutorial, we'll show you how to claim $300 of free credits that you can use to train your own models!\n",
    "\n",
    "<div class=\"alert alert-block alert-info\">\n",
    "<b>Note</b>: This lesson is <b>optional</b>. It is not required to complete the <b><a href=\"https://www.kaggle.com/learn/intro-to-machine-learning\">Intro to Machine Learning</a></b> course.\n",
    "</div><br> "
   ]
  },
  {
   "cell_type": "markdown",
   "metadata": {
    "papermill": {
     "duration": 0.008891,
     "end_time": "2020-10-01T00:10:14.815508",
     "exception": false,
     "start_time": "2020-10-01T00:10:14.806617",
     "status": "completed"
    },
    "tags": []
   },
   "source": [
    "# Code\n",
    "\n",
    "We'll work with data from the **[New York City Taxi Fare Prediction](https://www.kaggle.com/c/new-york-city-taxi-fare-prediction)** competition.  In this competition, we want you to predict the fare amount (inclusive of tolls) for a taxi ride in New York City, given the pickup and dropoff locations, number of passengers, and the pickup date and time.\n",
    "\n",
    "To do this, we'll use a **[Python class](https://www.kaggle.com/alexisbcook/automl-tables-wrapper)** that calls on AutoML Tables.  To use this code, you need only define the following variables:\n",
    "- `PROJECT_ID` - The name of your [Google Cloud project](https://cloud.google.com/resource-manager/docs/creating-managing-projects).  All of the work that you'll do in Google Cloud is organized in \"projects\".  \n",
    "- `BUCKET_NAME` - The name of your [Google Cloud storage bucket](https://cloud.google.com/storage/docs/creating-buckets).  In order to work with AutoML, we'll need to create a storage bucket, where we'll upload the Kaggle dataset.\n",
    "- `DATASET_DISPLAY_NAME` - The name of your dataset.  \n",
    "- `TRAIN_FILEPATH` - The filepath for the training data (`train.csv` file) from the competition.\n",
    "- `TEST_FILEPATH` - The filepath for the test data (`test.csv` file) from the competition.\n",
    "- `TARGET_COLUMN` - The name of the column in your training data that contains the values you'd like to predict.\n",
    "- `ID_COLUMN` - The name of the column containing IDs.\n",
    "- `MODEL_DISPLAY_NAME` - The name of your model.\n",
    "- `TRAIN_BUDGET` - How long you want your model to train (use 1000 for 1 hour, 2000 for 2 hours, and so on).\n",
    "\n",
    "All of these variables will make more sense when you run your own code in the following exercise!"
   ]
  },
  {
   "cell_type": "code",
   "execution_count": 1,
   "metadata": {
    "_kg_hide-input": true,
    "execution": {
     "iopub.execute_input": "2020-10-01T00:10:14.843530Z",
     "iopub.status.busy": "2020-10-01T00:10:14.842697Z",
     "iopub.status.idle": "2020-10-01T00:10:48.818474Z",
     "shell.execute_reply": "2020-10-01T00:10:48.817589Z"
    },
    "papermill": {
     "duration": 33.994023,
     "end_time": "2020-10-01T00:10:48.818643",
     "exception": false,
     "start_time": "2020-10-01T00:10:14.824620",
     "status": "completed"
    },
    "tags": []
   },
   "outputs": [],
   "source": [
    "\n",
    "# Save CSV file with first 2 million rows only\n",
    "import pandas as pd\n",
    "train_df = pd.read_csv(\"../input/new-york-city-taxi-fare-prediction/train.csv\", nrows = 2_000_000)\n",
    "train_df.to_csv(\"train_small.csv\", index=False)"
   ]
  },
  {
   "cell_type": "code",
   "execution_count": 2,
   "metadata": {
    "execution": {
     "iopub.execute_input": "2020-10-01T00:10:48.848253Z",
     "iopub.status.busy": "2020-10-01T00:10:48.847314Z",
     "iopub.status.idle": "2020-10-01T00:11:39.563214Z",
     "shell.execute_reply": "2020-10-01T00:11:39.562505Z"
    },
    "papermill": {
     "duration": 50.734741,
     "end_time": "2020-10-01T00:11:39.563377",
     "exception": false,
     "start_time": "2020-10-01T00:10:48.828636",
     "status": "completed"
    },
    "tags": []
   },
   "outputs": [
    {
     "name": "stdout",
     "output_type": "stream",
     "text": [
      "Preparing clients ...\n",
      "Clients successfully created!\n",
      "GCS bucket found.\n",
      "File train.csv uploaded to train.csv.\n",
      "File test.csv uploaded to test.csv.\n",
      "Dataset found.\n",
      "Set target column.\n",
      "Set columns to nullable.\n",
      "Ready to train model.\n"
     ]
    }
   ],
   "source": [
    "PROJECT_ID = 'kaggle-playground-170215'\n",
    "BUCKET_NAME = 'automl-tutorial-alexis'\n",
    "\n",
    "DATASET_DISPLAY_NAME = 'taxi_fare_dataset'\n",
    "TRAIN_FILEPATH = \"../working/train_small.csv\" \n",
    "TEST_FILEPATH = \"../input/new-york-city-taxi-fare-prediction/test.csv\"\n",
    "\n",
    "TARGET_COLUMN = 'fare_amount'\n",
    "ID_COLUMN = 'key'\n",
    "\n",
    "MODEL_DISPLAY_NAME = 'tutorial_model'\n",
    "TRAIN_BUDGET = 4000\n",
    "\n",
    "# Import the class defining the wrapper\n",
    "from automl_tables_wrapper import AutoMLTablesWrapper\n",
    "\n",
    "# Create an instance of the wrapper\n",
    "amw = AutoMLTablesWrapper(project_id=PROJECT_ID,\n",
    "                          bucket_name=BUCKET_NAME,\n",
    "                          dataset_display_name=DATASET_DISPLAY_NAME,\n",
    "                          train_filepath=TRAIN_FILEPATH,\n",
    "                          test_filepath=TEST_FILEPATH,\n",
    "                          target_column=TARGET_COLUMN,\n",
    "                          id_column=ID_COLUMN,\n",
    "                          model_display_name=MODEL_DISPLAY_NAME,\n",
    "                          train_budget=TRAIN_BUDGET)"
   ]
  },
  {
   "cell_type": "markdown",
   "metadata": {
    "papermill": {
     "duration": 0.012087,
     "end_time": "2020-10-01T00:11:39.590542",
     "exception": false,
     "start_time": "2020-10-01T00:11:39.578455",
     "status": "completed"
    },
    "tags": []
   },
   "source": [
    "Next, we train a model and use it to generate predictions on the test dataset."
   ]
  },
  {
   "cell_type": "code",
   "execution_count": 3,
   "metadata": {
    "execution": {
     "iopub.execute_input": "2020-10-01T00:11:39.623046Z",
     "iopub.status.busy": "2020-10-01T00:11:39.622219Z",
     "iopub.status.idle": "2020-10-01T04:23:52.418294Z",
     "shell.execute_reply": "2020-10-01T04:23:52.419132Z"
    },
    "papermill": {
     "duration": 15132.816282,
     "end_time": "2020-10-01T04:23:52.419502",
     "exception": false,
     "start_time": "2020-10-01T00:11:39.603220",
     "status": "completed"
    },
    "tags": []
   },
   "outputs": [
    {
     "name": "stdout",
     "output_type": "stream",
     "text": [
      "Training model ...\n",
      "Finished training model.\n",
      "Getting predictions ...\n",
      "Submission ready for download!\n"
     ]
    }
   ],
   "source": [
    "# Create and train the model\n",
    "amw.train_model()\n",
    "\n",
    "# Get predictions\n",
    "amw.get_predictions()"
   ]
  },
  {
   "cell_type": "markdown",
   "metadata": {
    "papermill": {
     "duration": 0.013197,
     "end_time": "2020-10-01T04:23:52.446468",
     "exception": false,
     "start_time": "2020-10-01T04:23:52.433271",
     "status": "completed"
    },
    "tags": []
   },
   "source": [
    "After completing these steps, we have a file that we can submit to the competition!  In the code cell below, we load this submission file and view the first several rows."
   ]
  },
  {
   "cell_type": "code",
   "execution_count": 4,
   "metadata": {
    "execution": {
     "iopub.execute_input": "2020-10-01T04:23:52.480433Z",
     "iopub.status.busy": "2020-10-01T04:23:52.479566Z",
     "iopub.status.idle": "2020-10-01T04:23:52.510642Z",
     "shell.execute_reply": "2020-10-01T04:23:52.511269Z"
    },
    "papermill": {
     "duration": 0.05147,
     "end_time": "2020-10-01T04:23:52.511449",
     "exception": false,
     "start_time": "2020-10-01T04:23:52.459979",
     "status": "completed"
    },
    "tags": []
   },
   "outputs": [
    {
     "data": {
      "text/html": [
       "<div>\n",
       "<style scoped>\n",
       "    .dataframe tbody tr th:only-of-type {\n",
       "        vertical-align: middle;\n",
       "    }\n",
       "\n",
       "    .dataframe tbody tr th {\n",
       "        vertical-align: top;\n",
       "    }\n",
       "\n",
       "    .dataframe thead th {\n",
       "        text-align: right;\n",
       "    }\n",
       "</style>\n",
       "<table border=\"1\" class=\"dataframe\">\n",
       "  <thead>\n",
       "    <tr style=\"text-align: right;\">\n",
       "      <th></th>\n",
       "      <th>key</th>\n",
       "      <th>fare_amount</th>\n",
       "    </tr>\n",
       "  </thead>\n",
       "  <tbody>\n",
       "    <tr>\n",
       "      <th>0</th>\n",
       "      <td>2014-06-23 00:16:00.00000036</td>\n",
       "      <td>7.327863</td>\n",
       "    </tr>\n",
       "    <tr>\n",
       "      <th>1</th>\n",
       "      <td>2013-09-25 22:00:00.0000002</td>\n",
       "      <td>18.338501</td>\n",
       "    </tr>\n",
       "    <tr>\n",
       "      <th>2</th>\n",
       "      <td>2010-06-16 18:41:54.0000002</td>\n",
       "      <td>7.675639</td>\n",
       "    </tr>\n",
       "    <tr>\n",
       "      <th>3</th>\n",
       "      <td>2011-06-01 07:37:00.0000006</td>\n",
       "      <td>27.225105</td>\n",
       "    </tr>\n",
       "    <tr>\n",
       "      <th>4</th>\n",
       "      <td>2012-11-20 21:54:00.000000221</td>\n",
       "      <td>19.386213</td>\n",
       "    </tr>\n",
       "  </tbody>\n",
       "</table>\n",
       "</div>"
      ],
      "text/plain": [
       "                             key  fare_amount\n",
       "0   2014-06-23 00:16:00.00000036     7.327863\n",
       "1    2013-09-25 22:00:00.0000002    18.338501\n",
       "2    2010-06-16 18:41:54.0000002     7.675639\n",
       "3    2011-06-01 07:37:00.0000006    27.225105\n",
       "4  2012-11-20 21:54:00.000000221    19.386213"
      ]
     },
     "execution_count": 4,
     "metadata": {},
     "output_type": "execute_result"
    }
   ],
   "source": [
    "submission_df = pd.read_csv(\"../working/submission.csv\")\n",
    "submission_df.head()"
   ]
  },
  {
   "cell_type": "markdown",
   "metadata": {
    "papermill": {
     "duration": 0.014122,
     "end_time": "2020-10-01T04:23:52.540184",
     "exception": false,
     "start_time": "2020-10-01T04:23:52.526062",
     "status": "completed"
    },
    "tags": []
   },
   "source": [
    "\n",
    "And how well does it perform?  Well, the competition provides a **[starter notebook](https://www.kaggle.com/dster/nyc-taxi-fare-starter-kernel-simple-linear-model)** with a simple linear model that predicts a fare amount based on the distance between the pickup and dropoff locations.  This approach outperforms that notebook, and it ranks better than roughly half of the total submissions to the competition.\n",
    "\n",
    "# Keep going\n",
    "\n",
    "Run your own code using AutoML Tables to **[make a submission to a Kaggle competition](https://www.kaggle.com/kernels/fork/10027938)**!"
   ]
  },
  {
   "cell_type": "markdown",
   "metadata": {
    "papermill": {
     "duration": 0.013985,
     "end_time": "2020-10-01T04:23:52.568562",
     "exception": false,
     "start_time": "2020-10-01T04:23:52.554577",
     "status": "completed"
    },
    "tags": []
   },
   "source": [
    "---\n",
    "\n",
    "\n",
    "\n",
    "\n",
    "*Have questions or comments? Visit the [Learn Discussion forum](https://www.kaggle.com/learn-forum/161285) to chat with other Learners.*"
   ]
  }
 ],
 "metadata": {
  "kernelspec": {
   "display_name": "Python 3",
   "language": "python",
   "name": "python3"
  },
  "language_info": {
   "codemirror_mode": {
    "name": "ipython",
    "version": 3
   },
   "file_extension": ".py",
   "mimetype": "text/x-python",
   "name": "python",
   "nbconvert_exporter": "python",
   "pygments_lexer": "ipython3",
   "version": "3.7.6"
  },
  "papermill": {
   "duration": 15223.678642,
   "end_time": "2020-10-01T04:23:52.693184",
   "environment_variables": {},
   "exception": null,
   "input_path": "__notebook__.ipynb",
   "output_path": "__notebook__.ipynb",
   "parameters": {},
   "start_time": "2020-10-01T00:10:09.014542",
   "version": "2.1.0"
  }
 },
 "nbformat": 4,
 "nbformat_minor": 4
}
